{
  "nbformat": 4,
  "nbformat_minor": 0,
  "metadata": {
    "colab": {
      "provenance": [],
      "gpuType": "V100",
      "toc_visible": true,
      "include_colab_link": true
    },
    "kernelspec": {
      "name": "python3",
      "display_name": "Python 3"
    },
    "language_info": {
      "name": "python"
    },
    "accelerator": "GPU"
  },
  "cells": [
    {
      "cell_type": "markdown",
      "metadata": {
        "id": "view-in-github",
        "colab_type": "text"
      },
      "source": [
        "<a href=\"https://colab.research.google.com/github/deepakgarg08/llm-diary/blob/main/llm_chronicles_rnn_encoder_decoder_translation_w_attention.ipynb\" target=\"_parent\"><img src=\"https://colab.research.google.com/assets/colab-badge.svg\" alt=\"Open In Colab\"/></a>"
      ]
    },
    {
      "cell_type": "markdown",
      "source": [
        "# Language Translation with RNN and Attention\n",
        "\n",
        "In this notebook, we implement a Recurrent Neural Network (RNN) with attention for language translation, following the approach described in *Neural Machine Translation by Jointly Learning to Align and Translate* by **Dzmitry Bahdanau** et al. The focus is on building and understanding the attention mechanism integral to enhancing the translation quality.\n",
        "\n",
        "For further details, refer to the original paper here: https://arxiv.org/abs/1409.0473."
      ],
      "metadata": {
        "id": "AsPy-7EsjLDx"
      }
    },
    {
      "cell_type": "code",
      "execution_count": null,
      "metadata": {
        "id": "YT1lapS6-IBd"
      },
      "outputs": [],
      "source": [
        "import torch\n",
        "import torch.nn as nn\n",
        "import torch.optim as optim\n",
        "import torch.nn.functional as F\n",
        "from torch.utils.data import Dataset, DataLoader\n",
        "from torch.nn.utils.rnn import pad_sequence"
      ]
    },
    {
      "cell_type": "code",
      "source": [
        "# Device-independent code\n",
        "DEVICE = torch.device(\"cuda:0\" if torch.cuda.is_available() else \"cpu\")\n",
        "DEVICE"
      ],
      "metadata": {
        "id": "mXxwIY6dgwfR",
        "colab": {
          "base_uri": "https://localhost:8080/"
        },
        "outputId": "3122180e-0fc9-4a03-f0c5-82bdf8b6add4"
      },
      "execution_count": null,
      "outputs": [
        {
          "output_type": "execute_result",
          "data": {
            "text/plain": [
              "device(type='cuda', index=0)"
            ]
          },
          "metadata": {},
          "execution_count": 2
        }
      ]
    },
    {
      "cell_type": "markdown",
      "source": [
        "# 1 - Processing dataset\n",
        "\n",
        "This section is identical to our previous RNN for translation, refer to that notebook for more details:\n",
        "\n",
        "https://colab.research.google.com/drive/1GBC7eLlEM-HqKLUuMcFIQdVuYXzLoS_P?usp=sharing"
      ],
      "metadata": {
        "id": "61SL6O9iDczy"
      }
    },
    {
      "cell_type": "code",
      "source": [
        "!wget https://raw.githubusercontent.com/kyuz0/llm-chronicles/main/datasets/eng_ita_v2.txt"
      ],
      "metadata": {
        "id": "mnIGIGwiDgvx",
        "colab": {
          "base_uri": "https://localhost:8080/"
        },
        "outputId": "75d7d242-748a-4052-c2d2-d1c09a4c75ad"
      },
      "execution_count": null,
      "outputs": [
        {
          "output_type": "stream",
          "name": "stdout",
          "text": [
            "--2023-12-19 17:49:42--  https://raw.githubusercontent.com/kyuz0/llm-chronicles/main/datasets/eng_ita_v2.txt\n",
            "Resolving raw.githubusercontent.com (raw.githubusercontent.com)... 185.199.108.133, 185.199.109.133, 185.199.110.133, ...\n",
            "Connecting to raw.githubusercontent.com (raw.githubusercontent.com)|185.199.108.133|:443... connected.\n",
            "HTTP request sent, awaiting response... 200 OK\n",
            "Length: 7240475 (6.9M) [text/plain]\n",
            "Saving to: ‘eng_ita_v2.txt’\n",
            "\n",
            "eng_ita_v2.txt      100%[===================>]   6.90M  --.-KB/s    in 0.1s    \n",
            "\n",
            "2023-12-19 17:49:42 (53.6 MB/s) - ‘eng_ita_v2.txt’ saved [7240475/7240475]\n",
            "\n"
          ]
        }
      ]
    },
    {
      "cell_type": "code",
      "source": [
        "import numpy as np\n",
        "\n",
        "# Function to read the file and extract pairs\n",
        "def read_data(file_path):\n",
        "    with open(file_path, 'r', encoding='utf-8') as file:\n",
        "        lines = file.read().strip().split('\\n')\n",
        "    pairs = [[s for s in line.split(' -> ')] for line in lines]\n",
        "    return pairs\n",
        "\n",
        "def tokenize(sentence):\n",
        "  return sentence.lower().split()\n",
        "\n",
        "# Tokenize and build vocabularies\n",
        "def build_vocab(pairs):\n",
        "    eng_vocab = set()\n",
        "    ita_vocab = set()\n",
        "    for eng, ita in pairs:\n",
        "        eng_vocab.update(tokenize(eng))\n",
        "        ita_vocab.update(tokenize(ita))\n",
        "    return eng_vocab, ita_vocab"
      ],
      "metadata": {
        "id": "yCl9WhtNN1TR"
      },
      "execution_count": null,
      "outputs": []
    },
    {
      "cell_type": "code",
      "source": [
        "# Path to your text file\n",
        "file_path = 'eng_ita_v2.txt'\n",
        "\n",
        "# Process the data\n",
        "pairs = read_data(file_path)\n",
        "english_vocab, italian_vocab = build_vocab(pairs)\n",
        "\n",
        "# Creating word to integer mapping\n",
        "eng_word2int = {word: i for i, word in enumerate(english_vocab)}\n",
        "ita_word2int = {word: i for i, word in enumerate(italian_vocab)}\n",
        "\n",
        "# Creating integer to word mapping\n",
        "eng_int2word = {i: word for word, i in eng_word2int.items()}\n",
        "ita_int2word = {i: word for word, i in ita_word2int.items()}\n",
        "\n",
        "print('English vocabulary size:', len(english_vocab))\n",
        "print('Italian vocabulary size:', len(italian_vocab))"
      ],
      "metadata": {
        "id": "30vG0l1ZKWrG",
        "colab": {
          "base_uri": "https://localhost:8080/"
        },
        "outputId": "7316b7e5-cf54-451a-c5a6-7e763e40e8db"
      },
      "execution_count": null,
      "outputs": [
        {
          "output_type": "stream",
          "name": "stdout",
          "text": [
            "English vocabulary size: 4997\n",
            "Italian vocabulary size: 13673\n"
          ]
        }
      ]
    },
    {
      "cell_type": "code",
      "source": [
        "# Example usage\n",
        "eng_example = \"Who are you\"\n",
        "ita_example = \"chi sei tu\"\n",
        "\n",
        "# Encoding\n",
        "eng_encoded = np.array([eng_word2int[word] for word in tokenize(eng_example)], dtype=np.int32)\n",
        "ita_encoded = np.array([ita_word2int[word] for word in tokenize(ita_example)], dtype=np.int32)\n",
        "\n",
        "print('English text encoded:', eng_encoded)\n",
        "print('Italian text encoded:', ita_encoded)\n",
        "\n",
        "# Decoding\n",
        "print('Decoded English:', ' '.join([eng_int2word[i] for i in eng_encoded]))\n",
        "print('Decoded Italian:', ' '.join([ita_int2word[i] for i in ita_encoded]))"
      ],
      "metadata": {
        "id": "6wpIt3jSN5dW",
        "colab": {
          "base_uri": "https://localhost:8080/"
        },
        "outputId": "2e07278f-1ed8-48dd-af4a-67b112826c56"
      },
      "execution_count": null,
      "outputs": [
        {
          "output_type": "stream",
          "name": "stdout",
          "text": [
            "English text encoded: [2880 1092 1206]\n",
            "Italian text encoded: [6553 5124 4637]\n",
            "Decoded English: who are you\n",
            "Decoded Italian: chi sei tu\n"
          ]
        }
      ]
    },
    {
      "cell_type": "markdown",
      "source": [
        "## 1.1 - Dataset and Dataloader"
      ],
      "metadata": {
        "id": "CbzpaLi7Qf9M"
      }
    },
    {
      "cell_type": "code",
      "source": [
        "# Special tokens\n",
        "PAD_TOKEN = \"<PAD>\"\n",
        "EOS_TOKEN = \"<EOS>\"\n",
        "SOS_TOKEN = \"<SOS>\"\n",
        "UNK_TOKEN = \"<UNK>\"\n",
        "\n",
        "# Update the function to create mappings to include the SOS token\n",
        "def create_mappings(vocab):\n",
        "    vocab = [PAD_TOKEN, SOS_TOKEN, EOS_TOKEN, UNK_TOKEN] + sorted(vocab)\n",
        "    word2int = {word: i for i, word in enumerate(vocab)}\n",
        "    int2word = {i: word for word, i in word2int.items()}\n",
        "    return word2int, int2word\n",
        "\n",
        "# Update the vocabularies\n",
        "eng_word2int, eng_int2word = create_mappings(english_vocab)\n",
        "ita_word2int, ita_int2word = create_mappings(italian_vocab)"
      ],
      "metadata": {
        "id": "loqdS_5eQkdB"
      },
      "execution_count": null,
      "outputs": []
    },
    {
      "cell_type": "code",
      "source": [
        "class TranslationDataset(Dataset):\n",
        "    def __init__(self, pairs, eng_word2int, ita_word2int):\n",
        "        self.pairs = pairs\n",
        "        self.eng_word2int = eng_word2int\n",
        "        self.ita_word2int = ita_word2int\n",
        "\n",
        "    def __len__(self):\n",
        "        return len(self.pairs)\n",
        "\n",
        "    def __getitem__(self, idx):\n",
        "        eng, ita = self.pairs[idx]\n",
        "        eng_tensor = torch.tensor([self.eng_word2int[word] for word in tokenize(eng)] + [self.eng_word2int[EOS_TOKEN]], dtype=torch.long)\n",
        "        ita_tensor = torch.tensor([self.ita_word2int[word] for word in tokenize(ita)] + [self.ita_word2int[EOS_TOKEN]], dtype=torch.long)\n",
        "        return eng_tensor, ita_tensor\n",
        "\n",
        "# Custom collate function to handle padding\n",
        "def collate_fn(batch):\n",
        "    eng_batch, ita_batch = zip(*batch)\n",
        "    eng_batch_padded = pad_sequence(eng_batch, batch_first=True, padding_value=eng_word2int[PAD_TOKEN])\n",
        "    ita_batch_padded = pad_sequence(ita_batch, batch_first=True, padding_value=ita_word2int[PAD_TOKEN])\n",
        "    return eng_batch_padded, ita_batch_padded"
      ],
      "metadata": {
        "id": "7W0Pmcd5QnkW"
      },
      "execution_count": null,
      "outputs": []
    },
    {
      "cell_type": "code",
      "source": [
        "from torch.nn.utils.rnn import pad_sequence\n",
        "\n",
        "# Create the dataset and DataLoader\n",
        "translation_dataset = TranslationDataset(pairs, eng_word2int, ita_word2int)\n",
        "batch_size = 64\n",
        "translation_dataloader = DataLoader(translation_dataset, batch_size=batch_size, shuffle=True,  drop_last=True, collate_fn=collate_fn)\n",
        "\n",
        "print(\"Translation samples: \", len(translation_dataset))\n",
        "print(\"Translation batches: \", len(translation_dataloader))"
      ],
      "metadata": {
        "id": "5qk88CrMSq6E",
        "colab": {
          "base_uri": "https://localhost:8080/"
        },
        "outputId": "072d6a7d-0a12-43e5-e997-1d8efa5ec738"
      },
      "execution_count": null,
      "outputs": [
        {
          "output_type": "stream",
          "name": "stdout",
          "text": [
            "Translation samples:  120746\n",
            "Translation batches:  1886\n"
          ]
        }
      ]
    },
    {
      "cell_type": "code",
      "source": [
        "# Example: iterating over the DataLoader\n",
        "for eng, ita in translation_dataloader:\n",
        "    print(\"English batch:\", eng)\n",
        "    print(\"Italian batch:\", ita)\n",
        "    break # remove this to iterate over the whole dataset"
      ],
      "metadata": {
        "id": "lr-FTXSG8sq7",
        "colab": {
          "base_uri": "https://localhost:8080/"
        },
        "outputId": "b3f44c90-09a7-4fe6-e1cb-f5329d638f86"
      },
      "execution_count": null,
      "outputs": [
        {
          "output_type": "stream",
          "name": "stdout",
          "text": [
            "English batch: tensor([[4478, 1314, 1360, 2781,    2,    0,    0,    0,    0,    0],\n",
            "        [4480, 3123, 1979,  741,    2,    0,    0,    0,    0,    0],\n",
            "        [4808, 2090, 4478, 1314, 1305, 4389,    2,    0,    0,    0],\n",
            "        [4478, 1979,  422, 1537,    2,    0,    0,    0,    0,    0],\n",
            "        [4478, 3765, 4467,  402,  316,    2,    0,    0,    0,    0],\n",
            "        [4478, 1979, 2590,   37, 3789, 2731,    2,    0,    0,    0],\n",
            "        [2149, 1860, 4467, 2799, 4624, 4423, 4828,    2,    0,    0],\n",
            "        [ 654, 4985, 4344, 2652, 4874, 4478, 2306, 2031,    2,    0],\n",
            "        [3892, 2306, 2308,    2,    0,    0,    0,    0,    0,    0],\n",
            "        [2146, 4777, 4467, 1853, 4467, 4392, 2421,    2,    0,    0],\n",
            "        [4993, 1315, 2303, 2031,    2,    0,    0,    0,    0,    0],\n",
            "        [2525, 4467, 4993, 1620,    2,    0,    0,    0,    0,    0],\n",
            "        [1305, 4985, 4776, 2652, 4467, 1562, 2308, 4467, 4985,    2],\n",
            "        [4344, 4478, 4467,  879, 2076,    2,    0,    0,    0,    0],\n",
            "        [3825, 1979, 4467, 4192, 3724,    2,    0,    0,    0,    0],\n",
            "        [2114, 2942, 3861, 2146, 1632, 2799, 1315,    2,    0,    0],\n",
            "        [2146, 1987,   37, 4715, 3299, 1843,    2,    0,    0,    0],\n",
            "        [4848,   37, 1257,    2,    0,    0,    0,    0,    0,    0],\n",
            "        [4478, 1980,  136, 4467, 1305, 4389,    2,    0,    0,    0],\n",
            "        [4478, 2534, 2952, 2060, 3016,    2,    0,    0,    0,    0],\n",
            "        [2149, 1713, 4985,    2,    0,    0,    0,    0,    0,    0],\n",
            "        [4478, 2318, 2562, 4392, 1431,    2,    0,    0,    0,    0],\n",
            "        [4387, 1724, 4423,    2,    0,    0,    0,    0,    0,    0],\n",
            "        [4478, 2306, 4817,    2,    0,    0,    0,    0,    0,    0],\n",
            "        [4478, 1979, 3598, 1786, 2060, 4564,    2,    0,    0,    0],\n",
            "        [4478,  188, 2629, 4842,  163, 2197, 4392, 3642,    2,    0],\n",
            "        [3825, 2552,  304, 2652,  188, 3971,    2,    0,    0,    0],\n",
            "        [4868, 2590, 4406, 3661,    2,    0,    0,    0,    0,    0],\n",
            "        [ 654, 4808, 4303,   43, 2308,    2,    0,    0,    0,    0],\n",
            "        [4480, 2173,    2,    0,    0,    0,    0,    0,    0,    0],\n",
            "        [2149,  192, 4905, 4985,    2,    0,    0,    0,    0,    0],\n",
            "        [4868, 2303, 4991, 2054, 2979, 2652,    2,    0,    0,    0],\n",
            "        [4392,  203, 4467, 4993, 3407, 2303, 4715, 3895,    2,    0],\n",
            "        [4985,  255, 2527,    2,    0,    0,    0,    0,    0,    0],\n",
            "        [2114, 1313, 4478, 3178, 4467, 3086, 1724, 4423,    2,    0],\n",
            "        [2146, 2506, 4467, 1632, 4392, 3162,    2,    0,    0,    0],\n",
            "        [4808, 1325, 4296,  859,  567,    2,    0,    0,    0,    0],\n",
            "        [3825, 3766, 1968, 4467,  402, 2031,    2,    0,    0,    0],\n",
            "        [4478, 2924, 2509, 2629,    2,    0,    0,    0,    0,    0],\n",
            "        [2146, 2833, 4467, 3760, 4478,    2,    0,    0,    0,    0],\n",
            "        [4478,  204, 3614,  340,    2,    0,    0,    0,    0,    0],\n",
            "        [4478, 2554,  528,    2,    0,    0,    0,    0,    0,    0],\n",
            "        [4478, 4787, 3456, 1724,  418,    2,    0,    0,    0,    0],\n",
            "        [4985,  255, 4055,    2,    0,    0,    0,    0,    0,    0],\n",
            "        [4389, 4917, 4929, 1724, 2652,    2,    0,    0,    0,    0],\n",
            "        [4389, 4793, 3991, 1970, 4787, 2308,    2,    0,    0,    0],\n",
            "        [1991, 4935,  156, 2862,    2,    0,    0,    0,    0,    0],\n",
            "        [4478, 3677, 2629, 1821, 4019, 4467, 2054,    2,    0,    0],\n",
            "        [4478, 3765, 4467,  402, 3456, 4467, 2464,    2,    0,    0],\n",
            "        [4478, 3865, 1987, 2367, 2629, 4766, 3991, 2548,    2,    0],\n",
            "        [4808, 4947, 2942, 3914, 4682,  156, 2862, 1267, 3232,    2],\n",
            "        [4478, 2834, 4530,    2,    0,    0,    0,    0,    0,    0],\n",
            "        [4811,   37, 3108, 2638,    2,    0,    0,    0,    0,    0],\n",
            "        [1991, 3769, 1834,  192, 2979, 2302,    2,    0,    0,    0],\n",
            "        [4478, 1314, 2506, 3232,    2,    0,    0,    0,    0,    0],\n",
            "        [4423,  742, 1508,    2,    0,    0,    0,    0,    0,    0],\n",
            "        [1305, 4985, 4797, 4343,    2,    0,    0,    0,    0,    0],\n",
            "        [2364, 2308,    2,    0,    0,    0,    0,    0,    0,    0],\n",
            "        [4851, 1860, 2952, 4905,  785, 4406, 1115,    2,    0,    0],\n",
            "        [2146, 1325, 4050, 1770, 1702,    2,    0,    0,    0,    0],\n",
            "        [4478, 4916, 4392, 1676, 1948,    2,    0,    0,    0,    0],\n",
            "        [2303, 4423,  421, 2979, 3242,    2,    0,    0,    0,    0],\n",
            "        [2461, 1770, 2303, 1796,    2,    0,    0,    0,    0,    0],\n",
            "        [4423, 4787,   37, 4367, 2731,    2,    0,    0,    0,    0]])\n",
            "Italian batch: tensor([[12656,  7628,  1667,  7340,     2,     0,     0,     0,     0,     0,\n",
            "             0,     0],\n",
            "        [ 6453,  8480,  3698, 12656, 13676,  1961,     2,     0,     0,     0,\n",
            "             0,     0],\n",
            "        [11805,  2331, 12656,  7628,  6768,  4622,     2,     0,     0,     0,\n",
            "             0,     0],\n",
            "        [12656, 13676, 12042, 11054,     2,     0,     0,     0,     0,     0,\n",
            "             0,     0],\n",
            "        [12656, 11171,  4550,  1271,     2,     0,     0,     0,     0,     0,\n",
            "             0,     0],\n",
            "        [12656,  5580,  4755, 13032,  4437,  5470,     2,     0,     0,     0,\n",
            "             0,     0],\n",
            "        [  742,  3466,  7280, 13667,  9460, 11297,     2,     0,     0,     0,\n",
            "             0,     0],\n",
            "        [ 9402,  3878,  8372, 12656,  7628, 13676,  9466,     2,     0,     0,\n",
            "             0,     0],\n",
            "        [10872,  7628, 13676, 13332,     2,     0,     0,     0,     0,     0,\n",
            "             0,     0],\n",
            "        [13576,   709,   473,  6467,     2,     0,     0,     0,     0,     0,\n",
            "             0,     0],\n",
            "        [ 5640, 12940,  2032, 13676,  9466,     2,     0,     0,     0,     0,\n",
            "             0,     0],\n",
            "        [ 1095, 12940,  8006,     2,     0,     0,     0,     0,     0,     0,\n",
            "             0,     0],\n",
            "        [13631,  2331, 12395,  6768, 11864,     2,     0,     0,     0,     0,\n",
            "             0,     0],\n",
            "        [ 4047,    40, 12656,  3698, 13283,    40,  2172,     2,     0,     0,\n",
            "             0,     0],\n",
            "        [ 3692, 12144, 10855,     2,     0,     0,     0,     0,     0,     0,\n",
            "             0,     0],\n",
            "        [ 9446, 11815,  4234,  3494,  3466,  6963,   473,  7280,  2032,     2,\n",
            "             0,     0],\n",
            "        [ 5592, 13033,  9529,  7340,  2151,     2,     0,     0,     0,     0,\n",
            "             0,     0],\n",
            "        [ 2331,  3602,     2,     0,     0,     0,     0,     0,     0,     0,\n",
            "             0,     0],\n",
            "        [12656,  7628,  5580,   233,    40,  4724,     2,     0,     0,     0,\n",
            "             0,     0],\n",
            "        [12656, 13505,  8366,  3114, 12233,     2,     0,     0,     0,     0,\n",
            "             0,     0],\n",
            "        [12561, 12083, 11129,     2,     0,     0,     0,     0,     0,     0,\n",
            "             0,     0],\n",
            "        [12656,  6438,  5580,  8474,  6634,  4363,     2,     0,     0,     0,\n",
            "             0,     0],\n",
            "        [ 5473,  8366,  9465,     2,     0,     0,     0,     0,     0,     0,\n",
            "             0,     0],\n",
            "        [12656,  7628, 13676,  9790,     2,     0,     0,     0,     0,     0,\n",
            "             0,     0],\n",
            "        [12656, 13676, 10317,  3472, 12233, 13387,     2,     0,     0,     0,\n",
            "             0,     0],\n",
            "        [12656,  4288,  7031,  4426,  3466, 11550,  7569, 12018,     2,     0,\n",
            "             0,     0],\n",
            "        [ 6675,  7217,  5580,  5535,  4288,  5580, 11643,     2,     0,     0,\n",
            "             0,     0],\n",
            "        [ 2338,  5580,  3331,  9461,  9679,     2,     0,     0,     0,     0,\n",
            "             0,     0],\n",
            "        [ 8808,  8130,     2,     0,     0,     0,     0,     0,     0,     0,\n",
            "             0,     0],\n",
            "        [12656, 13676,  5258,     2,     0,     0,     0,     0,     0,     0,\n",
            "             0,     0],\n",
            "        [11583,   985,  2828, 12395,     2,     0,     0,     0,     0,     0,\n",
            "             0,     0],\n",
            "        [ 2338, 13676,  8688,  5357,  6381,  7715,  6806,     2,     0,     0,\n",
            "             0,     0],\n",
            "        [ 6453, 10292,   497, 12936,  4158, 13676,  7340, 11185,     2,     0,\n",
            "             0,     0],\n",
            "        [ 7628, 11991,  1097,     2,     0,     0,     0,     0,     0,     0,\n",
            "             0,     0],\n",
            "        [12656,  2655,  5580,  6244,  3698,  8020,  9465,     2,     0,     0,\n",
            "             0,     0],\n",
            "        [ 7217,  8535,  3494,  3466,  6963,   430,  8619,     2,     0,     0,\n",
            "             0,     0],\n",
            "        [ 7628,  4623,  8271,  1895,     2,     0,     0,     0,     0,     0,\n",
            "             0,     0],\n",
            "        [11165,  4775,  3698,  4550,  9466,     2,     0,     0,     0,     0,\n",
            "             0,     0],\n",
            "        [   40, 12656,  7999,  8535,  7031,     2,     0,     0,     0,     0,\n",
            "             0,     0],\n",
            "        [ 5592,  1725,  3698, 13200, 12656,     2,     0,     0,     0,     0,\n",
            "             0,     0],\n",
            "        [12656,  5580, 10294,  5692,     2,     0,     0,     0,     0,     0,\n",
            "             0,     0],\n",
            "        [12656, 11165,   778,     2,     0,     0,     0,     0,     0,     0,\n",
            "             0,     0],\n",
            "        [12656,  4425,  9244,  8366,   709,    40,  6695,     2,     0,     0,\n",
            "             0,     0],\n",
            "        [ 7628, 11158, 11758,     2,     0,     0,     0,     0,     0,     0,\n",
            "             0,     0],\n",
            "        [ 7628,  5198,  8366,  7069,     2,     0,     0,     0,     0,     0,\n",
            "             0,     0],\n",
            "        [ 7628,  4425,  3311,  3756, 13332,     2,     0,     0,     0,     0,\n",
            "             0,     0],\n",
            "        [ 6606, 12954,  6453,  7662,     2,     0,     0,     0,     0,     0,\n",
            "             0,     0],\n",
            "        [12656,  5580,  3690,  2331,  7031,  5405,  5580,  3515,  9428,     2,\n",
            "             0,     0],\n",
            "        [12656, 11171,  4550,  9244,    40,  8187,     2,     0,     0,     0,\n",
            "             0,     0],\n",
            "        [12656,  7628,  1393,  4245,  6540,  7031,   270,  1133,  3311,    40,\n",
            "          6816,     2],\n",
            "        [11815,  9749,  5813,  8627, 12954,  6453,  7662,    40,  3909,  3698,\n",
            "          8707,     2],\n",
            "        [12656,  1383,  1725,  3698,   283,     2,     0,     0,     0,     0,\n",
            "             0,     0],\n",
            "        [11353, 13033,  2654,  8421,     2,     0,     0,     0,     0,     0,\n",
            "             0,     0],\n",
            "        [11351,   979,  7715, 11351,  6406,  9591,     2,     0,     0,     0,\n",
            "             0,     0],\n",
            "        [   40, 12656,  7628,  8535,  6453,  8707,     2,     0,     0,     0,\n",
            "             0,     0],\n",
            "        [ 9465,  1949, 12958,     2,     0,     0,     0,     0,     0,     0,\n",
            "             0,     0],\n",
            "        [ 5545,  6453, 12425,     2,     0,     0,     0,     0,     0,     0,\n",
            "             0,     0],\n",
            "        [12566,     2,     0,     0,     0,     0,     0,     0,     0,     0,\n",
            "             0,     0],\n",
            "        [ 3264, 11975, 12178,   430,  1553,  5813,  9462,  5355,     2,     0,\n",
            "             0,     0],\n",
            "        [ 7628,  8160,  5008,  5640,  5106,     2,     0,     0,     0,     0,\n",
            "             0,     0],\n",
            "        [12656,  5580, 13441,  6453,  9132,  6988,     2,     0,     0,     0,\n",
            "             0,     0],\n",
            "        [ 9465, 13676,  7006,  7715,  6866,     2,     0,     0,     0,     0,\n",
            "             0,     0],\n",
            "        [ 5709,  5640,  5106, 13676,  4089,     2,     0,     0,     0,     0,\n",
            "             0,     0],\n",
            "        [ 9465, 13676, 12042, 13032, 12521,  4437,     2,     0,     0,     0,\n",
            "             0,     0]])\n"
          ]
        }
      ]
    },
    {
      "cell_type": "markdown",
      "source": [
        "# 2 - Encoder / Decoder RNN with Attention\n",
        "\n",
        "\n",
        "In this cell, we introduce SimpleAttention, a class implementing a basic form of attention mechanism inspired by the Bahdanau et al. paper. This attention mechanism computes a **context vector** by focusing on different parts of the input sequence when predicting each word of the output sequence.\n",
        "\n",
        "\n",
        "![picture](https://raw.githubusercontent.com/kyuz0/llm-chronicles/main/4.8%20-%20Lab%20-%20Attention/attention_v1.png)\n",
        "\n",
        "The formula for Bahdanau attention is as follows:\n",
        "\n",
        "$\\text{Attention}(d_{i-1}, h_s) = v^T \\tanh(W_{attn}[d_{i-1}; h_s])\n",
        "$\n",
        "\n",
        "- $h_{s}$: all the encoder hidden states\n",
        "- $d_{i-1}$: hidden state of the decoder\n",
        "- $W_{attn}$ , $v$: learnable weights of the attention mechanism\n",
        "- $;$: concatenation\n",
        "\n",
        "In our implementation, SimpleAttention uses linear layers to compute the attention weights, and then these weights are used to create a context vector from the encoder outputs."
      ],
      "metadata": {
        "id": "O7Q1BrdKObH1"
      }
    },
    {
      "cell_type": "code",
      "source": [
        "class SimpleAttention(nn.Module):\n",
        "    def __init__(self, hidden_size):\n",
        "        super().__init__()\n",
        "        self.attn = nn.Linear(hidden_size * 2, hidden_size * 2, bias=False)\n",
        "        self.v = nn.Linear(hidden_size * 2, 1, bias=False)\n",
        "\n",
        "    def forward(self, hidden, encoder_outputs):\n",
        "        # hidden: [layer*D num, batch size, hidden size]\n",
        "        # encoder_outputs: [batch size, sequence length, hidden size]\n",
        "\n",
        "        # we only have 1 layer and 1 direction in the decoder RNN, drop this dimension\n",
        "        hidden = hidden.squeeze(0)  # [batch size, hidden size]\n",
        "\n",
        "        # Repeat decoder hidden state across the sequence length\n",
        "        hidden = hidden.unsqueeze(1).repeat(1, encoder_outputs.size(1), 1)\n",
        "\n",
        "        # Concatenate the hidden state with encoder outputs\n",
        "        combined = torch.cat((hidden, encoder_outputs), dim=2)\n",
        "\n",
        "        # Compute the attention scores\n",
        "        x = torch.tanh(self.attn(combined))\n",
        "        attention = self.v(x).squeeze(2)\n",
        "        attention_weights = F.softmax(attention, dim=1)\n",
        "\n",
        "        # Compute the context as weighted sum of encoder outputs\n",
        "        context_vector = torch.bmm(attention_weights.unsqueeze(1), encoder_outputs).squeeze(1)\n",
        "\n",
        "        return context_vector, attention_weights"
      ],
      "metadata": {
        "id": "ZH-QA9Cj8LTk"
      },
      "execution_count": null,
      "outputs": []
    },
    {
      "cell_type": "markdown",
      "source": [
        "## 2.1 - Adding Attention and Context to the Decoder\n",
        "\n",
        "This cell defines the Decoder class, integrating the previously implemented SimpleAttention mechanism into the decoding process. The Decoder takes encoded inputs and applies attention to focus on relevant parts of the input sequence for each step in the decoding phase. Key components include:\n",
        "\n",
        "- **Embedding Layer**: Maps input tokens to embeddings.\n",
        "\n",
        "- **Attention Integration**: Utilizes SimpleAttention to generate a context vector by weighting encoder outputs based on the current hidden state.\n",
        "\n",
        "- **LSTM Layer**: Processes the concatenated embedding and context vector.\n",
        "\n",
        "- **Fully Connected Layer**: Transforms LSTM outputs to vocabulary-sized vectors for token prediction.\n",
        "\n",
        "- **Attention Visualization**: Optionally stores attention weights for later analysis.\n",
        "\n",
        "The **forward** method performs these steps, embedding the input, calculating the context vector using attention, concatenating it with the embedding, and then passing this through the LSTM and fully connected layer for output generation. This approach enables the decoder to dynamically focus on different parts of the input sequence, enhancing translation accuracy.\n",
        "\n",
        "![picture](https://raw.githubusercontent.com/kyuz0/llm-chronicles/main/4.8%20-%20Lab%20-%20Attention/encoder_decoder_context.png)\n"
      ],
      "metadata": {
        "id": "a6NRemIfpvRY"
      }
    },
    {
      "cell_type": "code",
      "source": [
        "import torch\n",
        "import torch.nn as nn\n",
        "import torch.optim as optim\n",
        "import torch.nn.functional as F\n",
        "\n",
        "class Encoder(nn.Module):\n",
        "    def __init__(self, vocab_size, embed_size, hidden_size, num_layers=1):\n",
        "        super().__init__()\n",
        "        self.hidden_size = hidden_size\n",
        "        self.embedding = nn.Embedding(vocab_size, embed_size)\n",
        "        self.lstm = nn.LSTM(embed_size, hidden_size, num_layers=num_layers,\n",
        "                            batch_first=True, bidirectional=True)\n",
        "\n",
        "    def forward(self, x):\n",
        "        embedded = self.embedding(x)\n",
        "        outputs, (hidden, cell) = self.lstm(embedded)\n",
        "\n",
        "        # concatenate hidden states of the bi-directional RNN layer\n",
        "        hidden = torch.cat((hidden[0,:,:], hidden[1,:,:]), dim=1).unsqueeze(0)\n",
        "        cell = torch.cat((cell[0,:,:], cell[1,:,:]), dim=1).unsqueeze(0)\n",
        "\n",
        "        return outputs, hidden, cell\n",
        "\n",
        "class Decoder(nn.Module):\n",
        "    def __init__(self, vocab_size, embed_size, hidden_size, num_layers=1):\n",
        "        super().__init__()\n",
        "        self.hidden_size = hidden_size\n",
        "        self.attention = SimpleAttention(hidden_size)\n",
        "        self.embedding = nn.Embedding(vocab_size, embed_size)\n",
        "        self.lstm = nn.LSTM(hidden_size + embed_size, hidden_size, num_layers=num_layers, batch_first=True)\n",
        "        self.fc = nn.Linear(hidden_size, vocab_size)\n",
        "        self.attention_matrix = []\n",
        "\n",
        "    def forward(self, x, hidden, cell, encoder_outputs, store_attention=False):\n",
        "        x = self.embedding(x)\n",
        "        context_vector, attention_weights = self.attention(hidden, encoder_outputs)\n",
        "\n",
        "        if store_attention:\n",
        "          # Store attention weights for visualization\n",
        "          self.attention_matrix.append(attention_weights.detach().cpu().numpy())\n",
        "\n",
        "        lstm_input = torch.cat((x, context_vector.unsqueeze(1)), dim=2)\n",
        "\n",
        "        out, (hidden, cell) = self.lstm(lstm_input, (hidden, cell))\n",
        "        out = self.fc(out).reshape(out.size(0), -1)\n",
        "        return out, hidden, cell\n",
        "\n",
        "    def reset_attention_matrix(self):\n",
        "        self.attention_matrix = []"
      ],
      "metadata": {
        "id": "aBB_SwHM-cSN"
      },
      "execution_count": null,
      "outputs": []
    },
    {
      "cell_type": "markdown",
      "source": [
        "## 2.2 - Instantiate the models"
      ],
      "metadata": {
        "id": "bWwNH8VsrCgJ"
      }
    },
    {
      "cell_type": "code",
      "source": [
        "# Hyperparameters\n",
        "eng_vocab_size = len(eng_word2int)\n",
        "ita_vocab_size = len(ita_word2int)\n",
        "embed_size = 256\n",
        "hidden_size = 512\n",
        "num_layers = 1\n",
        "\n",
        "# Initialize the models\n",
        "encoder = Encoder(eng_vocab_size, embed_size, hidden_size, num_layers).to(DEVICE)\n",
        "decoder = Decoder(ita_vocab_size, embed_size, hidden_size*2, num_layers).to(DEVICE)"
      ],
      "metadata": {
        "id": "DEpM93wn-hDg"
      },
      "execution_count": null,
      "outputs": []
    },
    {
      "cell_type": "markdown",
      "source": [
        "# 3 - Translation (inference)\n",
        "\n",
        "This cell updates the translate method to incorporate the attention mechanism into the translation process, contrasting with the previous approach where only the encoder hidden state was passed to the decoder.\n",
        "\n",
        "Key differences are:\n",
        "\n",
        "- **Encoder Outputs Utilization**: In addition to the encoder's hidden and cell states, the new method now also captures and passes the full sequence of encoder outputs to the decoder. This is crucial for computing the context vector at each decoding step.\n",
        "\n",
        "- **Attention Visualization**: The decoder's reset_attention_matrix method is called before the decoding loop starts, and the store_attention flag is set to True in the decoder call to record attention weights for each step, enabling later visualization and analysis."
      ],
      "metadata": {
        "id": "cIaTMO2jVduQ"
      }
    },
    {
      "cell_type": "code",
      "source": [
        "def translate(encoder, decoder, sentence, eng_word2int, ita_int2word, max_length=15):\n",
        "    encoder.eval()\n",
        "    decoder.eval()\n",
        "    with torch.inference_mode():\n",
        "        # Tokenize and encode the sentence\n",
        "        input_tensor = torch.tensor([eng_word2int[word] for word in tokenize(sentence)]\n",
        "                                    + [eng_word2int[EOS_TOKEN]], dtype=torch.long)\n",
        "        input_tensor = input_tensor.view(1, -1).to(DEVICE)  # batch_first=True\n",
        "\n",
        "        # Pass the input through the encoder\n",
        "        encoder_outputs, encoder_hidden, encoder_cell = encoder(input_tensor)\n",
        "        # Initialize the decoder input with the SOS token\n",
        "        decoder_input = torch.tensor([[eng_word2int[SOS_TOKEN]]], dtype=torch.long)  # SOS\n",
        "        # Initialize the hidden state of the decoder with the encoder's hidden state\n",
        "        decoder_hidden, decoder_cell = encoder_hidden, encoder_cell\n",
        "\n",
        "        decoder.reset_attention_matrix()\n",
        "        # Decoding the sentence\n",
        "        decoded_words = []\n",
        "        last_word = torch.tensor([[eng_word2int[SOS_TOKEN]]]).to(DEVICE)\n",
        "        for di in range(max_length):\n",
        "            logits, decoder_hidden, decoder_cell = decoder(last_word, decoder_hidden,\n",
        "                                  decoder_cell, encoder_outputs, store_attention=True)\n",
        "            next_token = logits.argmax(dim=1) # greedy\n",
        "            last_word = torch.tensor([[next_token]]).to(DEVICE)\n",
        "            if next_token.item() == ita_word2int[EOS_TOKEN]:\n",
        "                break\n",
        "            else:\n",
        "                decoded_words.append(ita_int2word.get(next_token.item()))\n",
        "\n",
        "        return ' '.join(decoded_words)"
      ],
      "metadata": {
        "id": "JRwpn5iYVlje"
      },
      "execution_count": null,
      "outputs": []
    },
    {
      "cell_type": "code",
      "source": [
        "# Example usage\n",
        "# s/he likes music, listening to music,\n",
        "# tom likes hot chocolate\n",
        "# i want to go home now\n",
        "# tom likes chocolate\n",
        "# tom was right about that\n",
        "# tom said he would not come\n",
        "# this is a fun game\n",
        "\n",
        "sentence = \"tom likes hot chocolate\"\n",
        "translated_sentence = translate(encoder, decoder, sentence, eng_word2int, ita_int2word)\n",
        "print(\"Translated:\", translated_sentence)"
      ],
      "metadata": {
        "id": "XHW6-6UeVoDU",
        "colab": {
          "base_uri": "https://localhost:8080/"
        },
        "outputId": "3ad1152f-ee43-484c-c6de-f6fae05e74d6"
      },
      "execution_count": null,
      "outputs": [
        {
          "output_type": "stream",
          "name": "stdout",
          "text": [
            "Translated: a tom piace la cioccolata calda\n"
          ]
        }
      ]
    },
    {
      "cell_type": "markdown",
      "source": [
        "#3 - Training\n",
        "\n",
        "In the training loop, the core process remains the same. The only modification is that we now retain the encoder outputs and pass them to the decoder for effective context calculation during each decoding step."
      ],
      "metadata": {
        "id": "r2pd1LVITzcN"
      }
    },
    {
      "cell_type": "code",
      "source": [
        "import torch.optim as optim\n",
        "import torch.nn as nn\n",
        "import random\n",
        "\n",
        "# Loss Function (exclude padding)\n",
        "loss_fn = nn.CrossEntropyLoss(ignore_index=eng_word2int[PAD_TOKEN])\n",
        "\n",
        "# Optimizers\n",
        "encoder_optimizer = torch.optim.AdamW(encoder.parameters())\n",
        "decoder_optimizer = torch.optim.AdamW(decoder.parameters())\n",
        "\n",
        "# Number of epochs\n",
        "num_epochs = 10\n",
        "\n",
        "# Training Loop\n",
        "encoder.train()\n",
        "decoder.train()\n",
        "\n",
        "for epoch in range(num_epochs):\n",
        "    for i, (input_tensor, target_tensor) in enumerate(translation_dataloader):\n",
        "        input_tensor, target_tensor = input_tensor.to(DEVICE), target_tensor.to(DEVICE)\n",
        "\n",
        "        # Zero gradients of both optimizers\n",
        "        encoder_optimizer.zero_grad()\n",
        "        decoder_optimizer.zero_grad()\n",
        "\n",
        "        target_length = target_tensor.size(1)\n",
        "\n",
        "        # Encoder\n",
        "        encoder_output, encoder_hidden, encoder_cell = encoder(input_tensor)\n",
        "\n",
        "        # Decoder\n",
        "        decoder_input = torch.full((batch_size, 1), eng_word2int[SOS_TOKEN], dtype=torch.long).to(DEVICE)\n",
        "        decoder_hidden = encoder_hidden\n",
        "        decoder_cell = encoder_cell\n",
        "\n",
        "        # Randomly select a word index from the target sequence\n",
        "        random_word_index = random.randint(0, target_length - 1)\n",
        "\n",
        "        loss = 0\n",
        "\n",
        "        for di in range(target_length):\n",
        "            logits, decoder_hidden, decoder_cell  = decoder(decoder_input, decoder_hidden, decoder_cell, encoder_output)\n",
        "            #if di == random_word_index:\n",
        "            #    loss = loss_fn(logits, target_tensor[:, di])\n",
        "            #    break  # Only compute loss for the randomly selected word\n",
        "            loss += loss_fn(logits, target_tensor[:,di])\n",
        "            decoder_input = target_tensor[:, di].reshape(batch_size, 1)  # Teacher forcing\n",
        "\n",
        "        # Backpropagation\n",
        "        loss.backward()\n",
        "        #torch.nn.utils.clip_grad_norm_(encoder.parameters(), 2)\n",
        "        #torch.nn.utils.clip_grad_norm_(decoder.parameters(), 2)\n",
        "\n",
        "        encoder_optimizer.step()\n",
        "        decoder_optimizer.step()\n",
        "\n",
        "        if i % 100 == 0:  # Print loss every 10 batches\n",
        "            print(f'Epoch {epoch}, Batch {i}, Loss: {loss.item() / target_length:.4f}')\n"
      ],
      "metadata": {
        "id": "qundAzVU-lnz"
      },
      "execution_count": null,
      "outputs": []
    },
    {
      "cell_type": "markdown",
      "source": [
        "# 4 - Saving / Loading Models"
      ],
      "metadata": {
        "id": "ZoFHIMK4P8Lp"
      }
    },
    {
      "cell_type": "code",
      "source": [
        "# Save model\n",
        "torch.save(encoder.state_dict(), \"encoder.pth\")\n",
        "torch.save(decoder.state_dict(), \"decoder.pth\")"
      ],
      "metadata": {
        "id": "U7R9Drqo1ZR7"
      },
      "execution_count": null,
      "outputs": []
    },
    {
      "cell_type": "code",
      "source": [
        "# Download model\n",
        "!pip install --upgrade --no-cache-dir gdown\n",
        "!gdown --id \"15WbJ43paruf0iDZnV4HoxjwoFuyc3ccF\"\n",
        "!gdown --id \"15bhCm79_MiILlTVnXUL6tqEQgjaf3nHc\"\n"
      ],
      "metadata": {
        "id": "ZfAHFh8AOjGQ",
        "colab": {
          "base_uri": "https://localhost:8080/"
        },
        "outputId": "caf8f4eb-6f4a-4bc5-bb23-5178b376d2ed"
      },
      "execution_count": null,
      "outputs": [
        {
          "output_type": "stream",
          "name": "stdout",
          "text": [
            "Requirement already satisfied: gdown in /usr/local/lib/python3.10/dist-packages (4.7.1)\n",
            "Requirement already satisfied: filelock in /usr/local/lib/python3.10/dist-packages (from gdown) (3.13.1)\n",
            "Requirement already satisfied: requests[socks] in /usr/local/lib/python3.10/dist-packages (from gdown) (2.31.0)\n",
            "Requirement already satisfied: six in /usr/local/lib/python3.10/dist-packages (from gdown) (1.16.0)\n",
            "Requirement already satisfied: tqdm in /usr/local/lib/python3.10/dist-packages (from gdown) (4.66.1)\n",
            "Requirement already satisfied: beautifulsoup4 in /usr/local/lib/python3.10/dist-packages (from gdown) (4.11.2)\n",
            "Requirement already satisfied: soupsieve>1.2 in /usr/local/lib/python3.10/dist-packages (from beautifulsoup4->gdown) (2.5)\n",
            "Requirement already satisfied: charset-normalizer<4,>=2 in /usr/local/lib/python3.10/dist-packages (from requests[socks]->gdown) (3.3.2)\n",
            "Requirement already satisfied: idna<4,>=2.5 in /usr/local/lib/python3.10/dist-packages (from requests[socks]->gdown) (3.6)\n",
            "Requirement already satisfied: urllib3<3,>=1.21.1 in /usr/local/lib/python3.10/dist-packages (from requests[socks]->gdown) (2.0.7)\n",
            "Requirement already satisfied: certifi>=2017.4.17 in /usr/local/lib/python3.10/dist-packages (from requests[socks]->gdown) (2023.11.17)\n",
            "Requirement already satisfied: PySocks!=1.5.7,>=1.5.6 in /usr/local/lib/python3.10/dist-packages (from requests[socks]->gdown) (1.7.1)\n",
            "/usr/local/lib/python3.10/dist-packages/gdown/cli.py:126: FutureWarning: Option `--id` was deprecated in version 4.3.1 and will be removed in 5.0. You don't need to pass it anymore to use a file ID.\n",
            "  warnings.warn(\n",
            "Downloading...\n",
            "From: https://drive.google.com/uc?id=15WbJ43paruf0iDZnV4HoxjwoFuyc3ccF\n",
            "To: /content/encoder.pth\n",
            "100% 17.7M/17.7M [00:00<00:00, 74.4MB/s]\n",
            "/usr/local/lib/python3.10/dist-packages/gdown/cli.py:126: FutureWarning: Option `--id` was deprecated in version 4.3.1 and will be removed in 5.0. You don't need to pass it anymore to use a file ID.\n",
            "  warnings.warn(\n",
            "Downloading...\n",
            "From (uriginal): https://drive.google.com/uc?id=15bhCm79_MiILlTVnXUL6tqEQgjaf3nHc\n",
            "From (redirected): https://drive.google.com/uc?id=15bhCm79_MiILlTVnXUL6tqEQgjaf3nHc&confirm=t&uuid=f9f49066-06b4-433e-88ca-e9c33cbf351e\n",
            "To: /content/decoder.pth\n",
            "100% 125M/125M [00:01<00:00, 75.8MB/s]\n"
          ]
        }
      ]
    },
    {
      "cell_type": "code",
      "source": [
        "# Load model\n",
        "\n",
        "encoder.load_state_dict(torch.load(\"encoder.pth\"))\n",
        "decoder.load_state_dict(torch.load(\"decoder.pth\"))"
      ],
      "metadata": {
        "id": "uOcKXALfkn-a",
        "colab": {
          "base_uri": "https://localhost:8080/"
        },
        "outputId": "88bb214f-8e33-4567-908d-30423b6c24c2"
      },
      "execution_count": null,
      "outputs": [
        {
          "output_type": "execute_result",
          "data": {
            "text/plain": [
              "<All keys matched successfully>"
            ]
          },
          "metadata": {},
          "execution_count": 30
        }
      ]
    },
    {
      "cell_type": "markdown",
      "source": [
        "# 5 - Visualize Attention Matrix\n",
        "\n",
        "This cell visualizes the attention matrix, offering insights into how the model focuses on different parts of the input sentence when predicting each word in the output.\n",
        "\n",
        "- The plot_attention function creates a heatmap using Matplotlib and Seaborn, with the attention weights displayed for each input-output word pair.\n",
        "\n",
        "- The x-axis labels represent words from the input sentence, and the y-axis labels correspond to words in the output sentence.\n",
        "\n",
        "By examining this heatmap, we can understand the alignment and focus patterns of the model during translation, providing a clear and interpretable view of the attention mechanism at work."
      ],
      "metadata": {
        "id": "Y4DjKUXkGhOU"
      }
    },
    {
      "cell_type": "code",
      "source": [
        "import matplotlib.pyplot as plt\n",
        "import seaborn as sns\n",
        "\n",
        "def plot_attention(attention_matrix, input_sentence, output_sentence):\n",
        "    attention_matrix = attention_matrix.squeeze(1)\n",
        "\n",
        "    fig, ax = plt.subplots(figsize=(10,10))\n",
        "    attention_heatmap = sns.heatmap(attention_matrix, annot=True, ax=ax, cmap=\"viridis\", fmt=\".2f\",\n",
        "                                    xticklabels=input_sentence, yticklabels=output_sentence)\n",
        "    plt.xlabel('Input Sequence')\n",
        "    plt.ylabel('Output Sequence')\n",
        "    plt.title('Attention Heatmap')\n",
        "    plt.show()\n",
        "\n",
        "attention_matrix = np.array(decoder.attention_matrix)\n",
        "plot_attention(attention_matrix, tokenize(sentence), tokenize(translated_sentence))"
      ],
      "metadata": {
        "id": "1DqbbkqDO8oo",
        "colab": {
          "base_uri": "https://localhost:8080/",
          "height": 872
        },
        "outputId": "60064726-685d-4731-f0b1-ce6cd2abcc3a"
      },
      "execution_count": null,
      "outputs": [
        {
          "output_type": "display_data",
          "data": {
            "text/plain": [
              "<Figure size 1000x1000 with 2 Axes>"
            ],
            "image/png": "[encoded data removed]"
          },
          "metadata": {}
        }
      ]
    },
    {
      "cell_type": "code",
      "source": [],
      "metadata": {
        "id": "o5FjbZa_QHuR"
      },
      "execution_count": null,
      "outputs": []
    }
  ]
}