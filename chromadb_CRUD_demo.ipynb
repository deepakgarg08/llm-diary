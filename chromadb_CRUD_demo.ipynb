{
  "nbformat": 4,
  "nbformat_minor": 0,
  "metadata": {
    "colab": {
      "provenance": [],
      "authorship_tag": "ABX9TyMLy4yoJgndQDKVkhokfsLQ",
      "include_colab_link": true
    },
    "kernelspec": {
      "name": "python3",
      "display_name": "Python 3"
    },
    "language_info": {
      "name": "python"
    }
  },
  "cells": [
    {
      "cell_type": "markdown",
      "metadata": {
        "id": "view-in-github",
        "colab_type": "text"
      },
      "source": [
        "<a href=\"https://colab.research.google.com/github/deepakgarg08/llm-diary/blob/main/chromadb_CRUD_demo.ipynb\" target=\"_parent\"><img src=\"https://colab.research.google.com/assets/colab-badge.svg\" alt=\"Open In Colab\"/></a>"
      ]
    },
    {
      "cell_type": "markdown",
      "source": [
        "# SIMPLE EXAMPLE -  CRUD OPERATION BELOW"
      ],
      "metadata": {
        "id": "yTfy2CC5lLf6"
      }
    },
    {
      "cell_type": "code",
      "source": [
        "# !pip install chromadb"
      ],
      "metadata": {
        "id": "KsrgkICYka81"
      },
      "execution_count": 7,
      "outputs": []
    },
    {
      "cell_type": "code",
      "execution_count": 8,
      "metadata": {
        "id": "96zpglgEkMFN"
      },
      "outputs": [],
      "source": [
        "import chromadb\n",
        "from chromadb.config import Settings\n",
        "\n",
        "# Create Chroma client with default settings\n",
        "client = chromadb.Client(Settings())\n",
        "\n",
        "# Create a new collection (or get existing)\n",
        "collection = client.create_collection(name=\"my_documents\")\n",
        "\n",
        "# Sample data\n",
        "documents = [\n",
        "    \"Paris is the capital of France\",\n",
        "    \"The Eiffel Tower is in Paris\",\n",
        "    \"Berlin is the capital of Germany\",\n",
        "    \"The Berlin Wall fell in 1989\",\n",
        "]\n",
        "\n",
        "# Add data to the collection\n",
        "collection.add(\n",
        "    documents=documents,\n",
        "    ids=[\"doc1\", \"doc2\", \"doc3\", \"doc4\"]\n",
        ")\n",
        "\n",
        "# Query the collection\n",
        "results = collection.query(\n",
        "    query_texts=[\"What is the capital of Germany?\"],\n",
        "    n_results=2\n",
        ")\n",
        "\n"
      ]
    },
    {
      "cell_type": "code",
      "source": [
        "print(results)"
      ],
      "metadata": {
        "colab": {
          "base_uri": "https://localhost:8080/"
        },
        "id": "DtfFn4ZdkWM9",
        "outputId": "c177de5b-c0ce-4c77-b457-aee85061a40b"
      },
      "execution_count": 9,
      "outputs": [
        {
          "output_type": "stream",
          "name": "stdout",
          "text": [
            "{'ids': [['doc3', 'doc1']], 'embeddings': None, 'documents': [['Berlin is the capital of Germany', 'Paris is the capital of France']], 'uris': None, 'included': ['metadatas', 'documents', 'distances'], 'data': None, 'metadatas': [[None, None]], 'distances': [[0.37425845861434937, 1.1175110340118408]]}\n"
          ]
        }
      ]
    },
    {
      "cell_type": "markdown",
      "source": [
        "# CRUD"
      ],
      "metadata": {
        "id": "FQ_YPJXulJ76"
      }
    },
    {
      "cell_type": "code",
      "source": [
        "!pip install chromadb"
      ],
      "metadata": {
        "id": "JrzKyqv6kvb-"
      },
      "execution_count": null,
      "outputs": []
    },
    {
      "cell_type": "markdown",
      "source": [
        "Now import and configure the client"
      ],
      "metadata": {
        "id": "5nqmbfbAlhiW"
      }
    },
    {
      "cell_type": "code",
      "source": [
        "import chromadb\n",
        "from chromadb.config import Settings\n",
        "\n",
        "# Create the Chroma client\n",
        "client = chromadb.Client(Settings())\n",
        "\n",
        "# Create or get a collection\n",
        "collection = client.get_or_create_collection(name=\"my_collection2\")"
      ],
      "metadata": {
        "id": "A7dY-pUzlfc9"
      },
      "execution_count": 18,
      "outputs": []
    },
    {
      "cell_type": "markdown",
      "source": [
        "# CREATE - ADD DOCUMENTS"
      ],
      "metadata": {
        "id": "fyqa9KOIl-Jn"
      }
    },
    {
      "cell_type": "code",
      "source": [
        "documents = [\n",
        "    \"The capital of France is Paris\",\n",
        "    \"Berlin is the capital of Germany\",\n",
        "    \"Tokyo is the capital of Japan\"\n",
        "]\n",
        "\n",
        "collection.add(\n",
        "    documents=documents,\n",
        "    ids=[\"doc1\", \"doc2\", \"doc3\"],\n",
        "    metadatas=[{\"country\": \"France\"}, {\"country\": \"Germany\"}, {\"country\": \"Japan\"}]\n",
        ")\n"
      ],
      "metadata": {
        "id": "ii0fcHtqloDI"
      },
      "execution_count": 19,
      "outputs": []
    },
    {
      "cell_type": "markdown",
      "source": [
        "# READ: Query Documents"
      ],
      "metadata": {
        "id": "nox0e1ojmMWn"
      }
    },
    {
      "cell_type": "code",
      "source": [
        "result = collection.query(\n",
        "    query_texts=[\"largest city?\"],\n",
        "    n_results=5\n",
        ")\n",
        "\n",
        "print(result[\"documents\"])\n"
      ],
      "metadata": {
        "colab": {
          "base_uri": "https://localhost:8080/"
        },
        "id": "3Kfnmstolv8r",
        "outputId": "1ecaf691-0d50-4193-a810-5ae3284c7664"
      },
      "execution_count": 34,
      "outputs": [
        {
          "output_type": "stream",
          "name": "stdout",
          "text": [
            "[['Berlin is the largest city in Germany', 'The capital of France is Paris']]\n"
          ]
        }
      ]
    },
    {
      "cell_type": "markdown",
      "source": [
        "# UPDATE/MODIFY THE DOCUMENTS\n",
        "THERE IS NO delete operation in chromadb, you first delete and add it again"
      ],
      "metadata": {
        "id": "umrSuWYbmVeM"
      }
    },
    {
      "cell_type": "code",
      "source": [
        "collection.delete(ids=[\"doc2\"])\n"
      ],
      "metadata": {
        "id": "nVtHN6VimQuc"
      },
      "execution_count": 29,
      "outputs": []
    },
    {
      "cell_type": "code",
      "source": [
        "collection.add(\n",
        "    documents=[\"Rome is the capital of Italy\"],\n",
        "    ids=[\"doc4\"],\n",
        "    metadatas=[{\"country\": \"Italy\"}]\n",
        ")\n",
        "\n",
        "# Confirm it's added\n",
        "doc = collection.get(ids=[\"doc4\"])\n",
        "print(doc)\n"
      ],
      "metadata": {
        "colab": {
          "base_uri": "https://localhost:8080/"
        },
        "id": "BHB3h13hmpNV",
        "outputId": "94bf5c34-c370-478b-bee2-ce034219615c"
      },
      "execution_count": 40,
      "outputs": [
        {
          "output_type": "stream",
          "name": "stdout",
          "text": [
            "{'ids': ['doc4'], 'embeddings': None, 'documents': ['Rome is the capital of Italy'], 'uris': None, 'included': ['metadatas', 'documents'], 'data': None, 'metadatas': [{'country': 'Italy'}]}\n"
          ]
        }
      ]
    },
    {
      "cell_type": "markdown",
      "source": [
        "# DELETE: Remove Documents"
      ],
      "metadata": {
        "id": "7cMWKZjUniJm"
      }
    },
    {
      "cell_type": "code",
      "source": [
        "collection.delete(ids=[\"doc3\"])\n",
        "\n",
        "# Try to fetch it again for confirmation that delete worked or not\n",
        "doc = collection.get(ids=[\"doc3\"])\n",
        "print(doc)\n"
      ],
      "metadata": {
        "id": "4gwobhxbnB_l"
      },
      "execution_count": 39,
      "outputs": []
    },
    {
      "cell_type": "markdown",
      "source": [
        "### You can also delete based on metadata:"
      ],
      "metadata": {
        "id": "5iK2eTFJnonv"
      }
    },
    {
      "cell_type": "code",
      "source": [
        "collection.delete(where={\"country\": \"France\"})\n"
      ],
      "metadata": {
        "id": "9oUEhz8vnmvK"
      },
      "execution_count": 33,
      "outputs": []
    },
    {
      "cell_type": "markdown",
      "source": [
        "# Additional: Get All Documents (Hacky Read-All)\n",
        "#### Chroma doesn’t have a native get_all() method, but if you track IDs, you can fetch documents like this:"
      ],
      "metadata": {
        "id": "8qywrUb4n0BY"
      }
    },
    {
      "cell_type": "code",
      "source": [
        "all_docs = collection.get(ids=[\"doc1\", \"doc2\"])\n",
        "print(all_docs[\"documents\"])\n"
      ],
      "metadata": {
        "colab": {
          "base_uri": "https://localhost:8080/"
        },
        "id": "KykAznB1nsGn",
        "outputId": "597c5789-a28d-4d70-b186-e5c24cc7d889"
      },
      "execution_count": 35,
      "outputs": [
        {
          "output_type": "stream",
          "name": "stdout",
          "text": [
            "['The capital of France is Paris', 'Berlin is the largest city in Germany']\n"
          ]
        }
      ]
    },
    {
      "cell_type": "markdown",
      "source": [
        "### Or filter by metadata:"
      ],
      "metadata": {
        "id": "9rZKAgcOoC7v"
      }
    },
    {
      "cell_type": "code",
      "source": [
        "results = collection.get(where={\"updated\": True})\n",
        "print(results[\"documents\"])\n"
      ],
      "metadata": {
        "colab": {
          "base_uri": "https://localhost:8080/"
        },
        "id": "I3a5MLdAoADJ",
        "outputId": "79584eb2-9938-405f-f5b6-9d029f950540"
      },
      "execution_count": 36,
      "outputs": [
        {
          "output_type": "stream",
          "name": "stdout",
          "text": [
            "['Berlin is the largest city in Germany']\n"
          ]
        }
      ]
    },
    {
      "cell_type": "markdown",
      "source": [
        "Optional: Build a Helper Function\n",
        "You can wrap these checks in reusable functions"
      ],
      "metadata": {
        "id": "g6TxKA1xo3vP"
      }
    },
    {
      "cell_type": "code",
      "source": [
        "def is_doc_present(collection, doc_id):\n",
        "    result = collection.get(ids=[doc_id])\n",
        "    return len(result[\"documents\"]) > 0\n",
        "\n",
        "# Usage\n",
        "if is_doc_present(collection, \"doc4\"):\n",
        "    print(\"Document exists.\")\n",
        "else:\n",
        "    print(\"Document not found.\")\n"
      ],
      "metadata": {
        "colab": {
          "base_uri": "https://localhost:8080/"
        },
        "id": "RSM91nPzoJRw",
        "outputId": "9a20e90d-ed45-44c7-81ac-5eeaf8d7c62d"
      },
      "execution_count": 41,
      "outputs": [
        {
          "output_type": "stream",
          "name": "stdout",
          "text": [
            "Document exists.\n"
          ]
        }
      ]
    },
    {
      "cell_type": "markdown",
      "source": [
        "# some other operatoins"
      ],
      "metadata": {
        "id": "LePYsHHJpUvT"
      }
    },
    {
      "cell_type": "code",
      "source": [
        "collection.count()"
      ],
      "metadata": {
        "colab": {
          "base_uri": "https://localhost:8080/"
        },
        "id": "tgFmXou0o8O0",
        "outputId": "12b6f6d5-0a60-426c-8085-4e754dd6f665"
      },
      "execution_count": 42,
      "outputs": [
        {
          "output_type": "execute_result",
          "data": {
            "text/plain": [
              "3"
            ]
          },
          "metadata": {},
          "execution_count": 42
        }
      ]
    },
    {
      "cell_type": "code",
      "source": [
        "# # for all other types of possible operations\n",
        "# https://chatgpt.com/share/6849a443-e5e8-8008-80f4-07ce750899eb"
      ],
      "metadata": {
        "id": "jXQWUg2nqV0x"
      },
      "execution_count": 46,
      "outputs": []
    },
    {
      "cell_type": "code",
      "source": [
        "import chromadb\n",
        "from chromadb.config import Settings\n",
        "from sentence_transformers import SentenceTransformer\n",
        "\n",
        "# Initialize Chroma client\n",
        "client = chromadb.Client(Settings())\n",
        "\n",
        "# Create or get collection\n",
        "collection = client.get_or_create_collection(name=\"my_custom_embed_collection\")\n",
        "\n",
        "# Load a Hugging Face sentence transformer model\n",
        "embedder = SentenceTransformer('all-MiniLM-L6-v2')\n",
        "\n",
        "# Example documents\n",
        "documents = [\n",
        "    \"Paris is the capital of France\",\n",
        "    \"Berlin is the capital of Germany\",\n",
        "    \"Tokyo is the capital of Japan\"\n",
        "]\n",
        "ids = [\"doc1\", \"doc2\", \"doc3\"]\n",
        "\n",
        "# Generate custom embeddings\n",
        "embeddings = embedder.encode(documents).tolist()\n",
        "\n",
        "# Add documents with custom embeddings\n",
        "collection.add(\n",
        "    documents=documents,\n",
        "    ids=ids,\n",
        "    embeddings=embeddings,\n",
        "    metadatas=[{\"city\": \"Paris\"}, {\"city\": \"Berlin\"}, {\"city\": \"Tokyo\"}]\n",
        ")\n",
        "\n",
        "# Now query using a custom embedding (e.g., from a user query)\n",
        "query = \"What city is the capital of Germany?\"\n",
        "query_embedding = embedder.encode([query]).tolist()\n",
        "\n",
        "# Perform semantic search\n",
        "results = collection.query(\n",
        "    query_embeddings=query_embedding,\n",
        "    n_results=2,\n",
        "    include=[\"documents\", \"distances\"]\n",
        ")\n",
        "\n",
        "# Print results\n",
        "print(\"Top matches:\")\n",
        "for doc, dist in zip(results[\"documents\"][0], results[\"distances\"][0]):\n",
        "    print(f\"- {doc} (distance: {dist:.4f})\")\n"
      ],
      "metadata": {
        "colab": {
          "base_uri": "https://localhost:8080/"
        },
        "id": "zfFPpPLQpYBX",
        "outputId": "1d7e77a5-4acc-47d5-cb1c-da1dab60c5d3"
      },
      "execution_count": 45,
      "outputs": [
        {
          "output_type": "stream",
          "name": "stdout",
          "text": [
            "Top matches:\n",
            "- Berlin is the capital of Germany (distance: 0.3362)\n",
            "- Paris is the capital of France (distance: 1.1139)\n"
          ]
        }
      ]
    },
    {
      "cell_type": "code",
      "source": [],
      "metadata": {
        "id": "KJnqBUWEqXF9"
      },
      "execution_count": null,
      "outputs": []
    }
  ]
}